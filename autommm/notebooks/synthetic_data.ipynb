{
 "cells": [
  {
   "cell_type": "markdown",
   "metadata": {},
   "source": [
    "When generating synthetic data for **Market Mix Modeling (MMM)**—especially for building and testing something like your **AutoMMM system**—you need to simulate data that is both *statistically realistic* and *functionally useful* for model development and validation."
   ]
  },
  {
   "cell_type": "markdown",
   "metadata": {},
   "source": [
    "## ✅ 1. **Reflect Real-World Relationships**\n",
    "\n",
    "### Why: MMM models are sensitive to data patterns. Unrealistic or poorly constructed relationships lead to invalid conclusions.\n",
    "\n",
    "* Ensure **positive correlation** between media spend and sales.\n",
    "* Include **diminishing returns** (non-linear) and **carryover effects** (adstock).\n",
    "* Inject **seasonality, holidays, and external factors** as they significantly influence sales.\n",
    "* Introduce **multicollinearity** only if you're planning to test model robustness or regularization strategies.\n"
   ]
  },
  {
   "cell_type": "code",
   "execution_count": 81,
   "metadata": {},
   "outputs": [],
   "source": [
    "# Base line\n",
    "import pandas as pd\n",
    "import numpy as np\n",
    "import random\n",
    "import matplotlib.pyplot as plt\n",
    "%matplotlib inline"
   ]
  },
  {
   "cell_type": "code",
   "execution_count": 82,
   "metadata": {},
   "outputs": [
    {
     "name": "stdout",
     "output_type": "stream",
     "text": [
      "104\n",
      "DatetimeIndex(['2025-06-07', '2025-06-14', '2025-06-21', '2025-06-28',\n",
      "               '2025-07-05', '2025-07-12', '2025-07-19', '2025-07-26',\n",
      "               '2025-08-02', '2025-08-09',\n",
      "               ...\n",
      "               '2027-03-27', '2027-04-03', '2027-04-10', '2027-04-17',\n",
      "               '2027-04-24', '2027-05-01', '2027-05-08', '2027-05-15',\n",
      "               '2027-05-22', '2027-05-29'],\n",
      "              dtype='datetime64[ns]', length=104, freq='W-SAT')\n"
     ]
    }
   ],
   "source": [
    "weeks = pd.date_range(start='2025-06-05', periods=104, freq='W-SAT')\n",
    "print(len(weeks))\n",
    "print(weeks)"
   ]
  },
  {
   "cell_type": "code",
   "execution_count": 83,
   "metadata": {},
   "outputs": [
    {
     "name": "stdout",
     "output_type": "stream",
     "text": [
      "\u001b[31mType:\u001b[39m        list\n",
      "\u001b[31mString form:\u001b[39m ['sku_A', 'sku_B', 'sku_C']\n",
      "\u001b[31mLength:\u001b[39m      3\n",
      "\u001b[31mDocstring:\u001b[39m  \n",
      "Built-in mutable sequence.\n",
      "\n",
      "If no argument is given, the constructor creates a new empty list.\n",
      "The argument must be an iterable if specified."
     ]
    }
   ],
   "source": [
    "skus = ['sku_A','sku_B','sku_C']\n",
    "skus?"
   ]
  },
  {
   "cell_type": "code",
   "execution_count": 84,
   "metadata": {},
   "outputs": [
    {
     "name": "stdout",
     "output_type": "stream",
     "text": [
      "decreasing\n",
      "decreasing\n",
      "increasing\n"
     ]
    }
   ],
   "source": [
    "#Price\n",
    "\"\"\"\n",
    "price for sku_A is usually around 80 \n",
    "price for sku_B is usually around 30 \n",
    "price for sku_C is usually around 20 \n",
    "\"\"\"\n",
    "def generate_small_fluctuations(baseline :int,length:int):\n",
    "    std_devs = np.arange(20, 20 + 70 * length, 70) / 10000\n",
    "\n",
    "    lower_bounds = (baseline - std_devs).tolist()\n",
    "    upper_bounds = (baseline + std_devs).tolist()\n",
    "    combined = lower_bounds + upper_bounds\n",
    "\n",
    "    random_combined = random.sample(combined, length)\n",
    "\n",
    "    if random.random() < 0.5:\n",
    "        print(\"increasing\")\n",
    "        random_combined += np.arange(length)/100\n",
    "    else:\n",
    "        print(\"decreasing\")\n",
    "        random_combined -= np.arange(length)/100\n",
    "        \n",
    "    return random_combined\n",
    "\n",
    "sku_a_price = generate_small_fluctuations(80,104)\n",
    "sku_b_price = generate_small_fluctuations(30,104)\n",
    "sku_c_price = generate_small_fluctuations(20,104)"
   ]
  },
  {
   "cell_type": "code",
   "execution_count": 85,
   "metadata": {},
   "outputs": [],
   "source": [
    "# OOS\n",
    "sku_a_oos = np.random.choice([1,2,3,4,5,6,7], size=(104,)) * np.random.choice([0, 1], size=(104,), p=[7./10, 3./10])\n",
    "sku_b_oos = np.random.choice([1,2,3,4,5,6,7], size=(104,)) * np.random.choice([0, 1], size=(104,), p=[8./10, 2./10])\n",
    "sku_c_oos = np.random.choice([1,2,3,4,5,6,7], size=(104,)) * np.random.choice([0, 1], size=(104,), p=[9./10, 1./10])"
   ]
  },
  {
   "cell_type": "code",
   "execution_count": 86,
   "metadata": {},
   "outputs": [],
   "source": [
    "events = np.random.choice([0, 1], size=(104,), p=[9./10, 1./10])"
   ]
  },
  {
   "cell_type": "code",
   "execution_count": 87,
   "metadata": {},
   "outputs": [],
   "source": [
    "def brand_level_advt_strategy(no_of_weeks :int):\n",
    "    # Branded ads (5-10% probability - less frequent than product-level)\n",
    "    b_ads_occurrences = np.random.choice([True, False], size=no_of_weeks, p=[0.08, 0.92])\n",
    "    # Non-branded ads (20-30% probability)\n",
    "    nb_ads_occurrences = np.random.choice([True, False], size=no_of_weeks, p=[0.25, 0.75])\n",
    "    # Branded: Higher clicks when active ($500–$1000 per week)\n",
    "    brand_level_branded_clicks = np.where(b_ads_occurrences, np.random.randint(200, 700, no_of_weeks), 0)\n",
    "    # Non-Branded: Lower spend ($100–$300 per week)\n",
    "    brand_level_nonbranded_clicks = np.where(nb_ads_occurrences, np.random.randint(100, 200, no_of_weeks), 0)\n",
    "    # Branded CPC: Gamma distribution ($1.50-$3.50)\n",
    "    price_per_branded_click = np.round(np.random.gamma(shape=5, scale=0.3, size=no_of_weeks) + 1.5, 2)\n",
    "    # Non-Branded CPC: Normal distribution ($0.50-$1.80)\n",
    "    price_per_nonbranded_click = np.round(np.clip(np.random.normal(loc=1.1, scale=0.3, size=no_of_weeks), 0.5, 1.8), 2)\n",
    "    #spends\n",
    "    brand_level_branded_spends = brand_level_branded_clicks * price_per_branded_click\n",
    "    brand_level_nonbranded_spends = brand_level_nonbranded_clicks * price_per_nonbranded_click\n",
    "\n",
    "    return  brand_level_branded_clicks, brand_level_nonbranded_clicks, brand_level_branded_spends, brand_level_nonbranded_spends\n",
    "\n",
    "\n",
    "def product_level_advt_strategy(no_of_weeks :int):\n",
    "    # Branded ads (10-20% probability per week)\n",
    "    b_ads_occurances = np.random.choice([True, False], size=no_of_weeks, p=[0.15, 0.85])\n",
    "    # Non-branded ads (30-50% probability per week)\n",
    "    nb_ads_occurances = np.random.choice([True, False], size=no_of_weeks, p=[0.4, 0.6])\n",
    "    # Branded: Higher clicks when active ($500–$1000 per week)\n",
    "    product_level_branded_clicks = np.where(b_ads_occurances, np.random.randint(500, 1000, no_of_weeks), 0)\n",
    "    # Non-Branded: Lower spend ($100–$300 per week)\n",
    "    product_level_nonbranded_clicks = np.where(nb_ads_occurances, np.random.randint(100, 300, no_of_weeks), 0)\n",
    "    # Branded CPC: Gamma distribution ($1.50-$3.50)\n",
    "    price_per_branded_click = np.round(np.random.gamma(shape=5, scale=0.3, size=no_of_weeks) + 1.5, 2)\n",
    "    # Non-Branded CPC: Normal distribution ($0.50-$1.80)\n",
    "    price_per_nonbranded_click = np.round(np.clip(np.random.normal(loc=1.1, scale=0.3, size=no_of_weeks), 0.5, 1.8), 2)\n",
    "    \n",
    "    #spends\n",
    "    product_level_branded_spends = product_level_branded_clicks * price_per_branded_click\n",
    "    product_level_nonbranded_spends = product_level_nonbranded_clicks * price_per_nonbranded_click\n",
    "\n",
    "    return product_level_branded_clicks, product_level_branded_spends, product_level_nonbranded_clicks, product_level_nonbranded_spends"
   ]
  },
  {
   "cell_type": "code",
   "execution_count": 88,
   "metadata": {},
   "outputs": [],
   "source": [
    "brand_level_branded_clicks, brand_level_nonbranded_clicks, brand_level_branded_spends, brand_level_nonbranded_spends =  brand_level_advt_strategy(no_of_weeks = 104)"
   ]
  },
  {
   "cell_type": "code",
   "execution_count": 89,
   "metadata": {},
   "outputs": [],
   "source": [
    "no_of_weeks = 104"
   ]
  },
  {
   "cell_type": "code",
   "execution_count": 90,
   "metadata": {},
   "outputs": [],
   "source": [
    "# insta_clicks\n",
    "insta_clicks_occ = np.random.choice([True, False], size=no_of_weeks, p=[0.1, 0.9])\n",
    "insta_clicks = np.where(insta_clicks_occ, np.random.randint(250, 300, no_of_weeks), 0)\n",
    "price_per_insta_click = np.round(np.clip(np.random.normal(loc=1.1, scale=0.3, size=no_of_weeks), 2, 3), 2)\n",
    "insta_spends = insta_clicks * price_per_insta_click\n",
    "\n",
    "# fb_clicks\n",
    "fb_clicks_occ = np.random.choice([True, False], size=no_of_weeks, p=[0.1, 0.9])\n",
    "fb_clicks = np.where(fb_clicks_occ, np.random.randint(150, 360, no_of_weeks), 0)\n",
    "price_per_fb_click = np.round(np.clip(np.random.normal(loc=1.1, scale=0.3, size=no_of_weeks), 2, 3), 2)\n",
    "fb_spends = fb_clicks * price_per_fb_click\n"
   ]
  },
  {
   "cell_type": "code",
   "execution_count": 91,
   "metadata": {},
   "outputs": [],
   "source": [
    "def generate_indiv_sku_data(sku, weeks, price, oos, events, no_of_weeks, \n",
    "                            brand_level_branded_clicks, brand_level_nonbranded_clicks, brand_level_branded_spends, brand_level_nonbranded_spends,\n",
    "                            insta_clicks, insta_spends,\n",
    "                            fb_clicks, fb_spends):\n",
    "    product_level_branded_clicks, product_level_branded_spends, product_level_nonbranded_clicks, product_level_nonbranded_spends = product_level_advt_strategy(no_of_weeks)\n",
    "\n",
    "    indiv_data = pd.DataFrame(\n",
    "        {   \n",
    "            'date': weeks,\n",
    "            'sku' : sku,\n",
    "            'sales': 0,\n",
    "            'units' : 0,\n",
    "            'price': price,\n",
    "            'oos' : oos,\n",
    "            'events': events,\n",
    "            'product_level_branded_clicks' : product_level_branded_clicks,\n",
    "            'product_level_branded_spends' : product_level_branded_spends,\n",
    "            'product_level_nonbranded_clicks' : product_level_nonbranded_clicks,\n",
    "            'product_level_nonbranded_spends' : product_level_nonbranded_spends,\n",
    "            'brand_level_branded_clicks' : brand_level_branded_clicks,\n",
    "            'brand_level_branded_spends' : brand_level_branded_spends,\n",
    "            'brand_level_nonbranded_clicks' : brand_level_nonbranded_clicks,\n",
    "            'brand_level_nonbranded_spends' : brand_level_nonbranded_spends,\n",
    "            'insta_clicks' : insta_clicks,\n",
    "            'insta_spends' : insta_spends,\n",
    "            'fb_clicks' :  fb_clicks, \n",
    "            'fb_spends' :  fb_spends\n",
    "        }\n",
    "    )\n",
    "    return indiv_data"
   ]
  },
  {
   "cell_type": "code",
   "execution_count": 92,
   "metadata": {},
   "outputs": [],
   "source": [
    "no_of_weeks = 104\n",
    "sku_a_data = generate_indiv_sku_data('sku_A', weeks, sku_a_price, sku_a_oos , events, no_of_weeks, \n",
    "                            brand_level_branded_clicks, brand_level_nonbranded_clicks, brand_level_branded_spends, brand_level_nonbranded_spends,\n",
    "                            insta_clicks, insta_spends,\n",
    "                            fb_clicks, fb_spends)\n",
    "\n",
    "\n",
    "sku_b_data = generate_indiv_sku_data('sku_B', weeks, sku_b_price, sku_b_oos , events, no_of_weeks, \n",
    "                            brand_level_branded_clicks, brand_level_nonbranded_clicks, brand_level_branded_spends, brand_level_nonbranded_spends,\n",
    "                            insta_clicks, insta_spends,\n",
    "                            fb_clicks, fb_spends)\n",
    "\n",
    "sku_c_data = generate_indiv_sku_data('sku_C', weeks, sku_c_price, sku_c_oos , events, no_of_weeks, \n",
    "                            brand_level_branded_clicks, brand_level_nonbranded_clicks, brand_level_branded_spends, brand_level_nonbranded_spends,\n",
    "                            insta_clicks, insta_spends,\n",
    "                            fb_clicks, fb_spends)\n",
    "\n",
    "\n",
    "\n",
    "\n",
    "# random_intercept = np.random.normal(100, 10)\n",
    "sku_a_data['units'] = (np.random.normal(100, 10)\n",
    "    - 1.5 * (sku_a_data['price']/80)\n",
    "    - 2.0 * sku_a_data['oos']\n",
    "    + 0.5 * sku_a_data['events']\n",
    "    + 0.3 * sku_a_data['product_level_branded_clicks']\n",
    "    + 0.2 * sku_a_data['product_level_nonbranded_clicks']\n",
    "    + 0.25 * sku_a_data['brand_level_branded_clicks']\n",
    "    + 0.15 * sku_a_data['brand_level_nonbranded_clicks']\n",
    "    + 0.1 * sku_a_data['insta_clicks']\n",
    "    + 0.1 * sku_a_data['fb_clicks']).astype(int)\n",
    "\n",
    "sku_b_data['units'] = (np.random.normal(100, 10)\n",
    "    - 0.5 * (sku_b_data['price']/30)\n",
    "    - 1.0 * sku_b_data['oos']\n",
    "    + 0.5 * sku_b_data['events']\n",
    "    + 0.1 * sku_b_data['product_level_branded_clicks']\n",
    "    + 0.6 * sku_b_data['product_level_nonbranded_clicks']\n",
    "    + 0.25 * sku_b_data['brand_level_branded_clicks']\n",
    "    + 0.15 * sku_b_data['brand_level_nonbranded_clicks']\n",
    "    + 0.1 * sku_b_data['insta_clicks']\n",
    "    + 0.1 * sku_b_data['fb_clicks']).astype(int)\n",
    "\n",
    "sku_c_data['units'] = (np.random.normal(100, 10)\n",
    "    - 0.74 * (sku_c_data['price']/20)\n",
    "    - 0.87 * sku_c_data['oos']\n",
    "    + 0.5 * sku_c_data['events']\n",
    "    + 0.4 * sku_c_data['product_level_branded_clicks']\n",
    "    + 0.2 * sku_c_data['product_level_nonbranded_clicks']\n",
    "    + 0.25 * sku_c_data['brand_level_branded_clicks']\n",
    "    + 0.15 * sku_c_data['brand_level_nonbranded_clicks']\n",
    "    + 0.1 * sku_c_data['insta_clicks']\n",
    "    + 0.1 * sku_c_data['fb_clicks']).astype(int)\n",
    "\n",
    "\n",
    "sku_a_data['sales'] = sku_a_data['units'] * sku_a_data['price'] \n",
    "sku_b_data['sales'] = sku_b_data['units'] * sku_b_data['price'] \n",
    "sku_c_data['sales'] = sku_c_data['units'] * sku_c_data['price'] \n"
   ]
  },
  {
   "cell_type": "code",
   "execution_count": 93,
   "metadata": {},
   "outputs": [
    {
     "data": {
      "text/html": [
       "<div>\n",
       "<style scoped>\n",
       "    .dataframe tbody tr th:only-of-type {\n",
       "        vertical-align: middle;\n",
       "    }\n",
       "\n",
       "    .dataframe tbody tr th {\n",
       "        vertical-align: top;\n",
       "    }\n",
       "\n",
       "    .dataframe thead th {\n",
       "        text-align: right;\n",
       "    }\n",
       "</style>\n",
       "<table border=\"1\" class=\"dataframe\">\n",
       "  <thead>\n",
       "    <tr style=\"text-align: right;\">\n",
       "      <th></th>\n",
       "      <th>date</th>\n",
       "      <th>sku</th>\n",
       "      <th>sales</th>\n",
       "      <th>units</th>\n",
       "      <th>price</th>\n",
       "      <th>oos</th>\n",
       "      <th>events</th>\n",
       "      <th>product_level_branded_clicks</th>\n",
       "      <th>product_level_branded_spends</th>\n",
       "      <th>product_level_nonbranded_clicks</th>\n",
       "      <th>product_level_nonbranded_spends</th>\n",
       "      <th>brand_level_branded_clicks</th>\n",
       "      <th>brand_level_branded_spends</th>\n",
       "      <th>brand_level_nonbranded_clicks</th>\n",
       "      <th>brand_level_nonbranded_spends</th>\n",
       "      <th>insta_clicks</th>\n",
       "      <th>insta_spends</th>\n",
       "      <th>fb_clicks</th>\n",
       "      <th>fb_spends</th>\n",
       "    </tr>\n",
       "  </thead>\n",
       "  <tbody>\n",
       "    <tr>\n",
       "      <th>0</th>\n",
       "      <td>2025-06-07</td>\n",
       "      <td>sku_A</td>\n",
       "      <td>8546.250</td>\n",
       "      <td>106</td>\n",
       "      <td>80.625</td>\n",
       "      <td>6</td>\n",
       "      <td>0</td>\n",
       "      <td>0</td>\n",
       "      <td>0.0</td>\n",
       "      <td>0</td>\n",
       "      <td>0.00</td>\n",
       "      <td>0</td>\n",
       "      <td>0.0</td>\n",
       "      <td>117</td>\n",
       "      <td>126.36</td>\n",
       "      <td>0</td>\n",
       "      <td>0.0</td>\n",
       "      <td>0</td>\n",
       "      <td>0.0</td>\n",
       "    </tr>\n",
       "    <tr>\n",
       "      <th>1</th>\n",
       "      <td>2025-06-14</td>\n",
       "      <td>sku_A</td>\n",
       "      <td>7219.030</td>\n",
       "      <td>91</td>\n",
       "      <td>79.330</td>\n",
       "      <td>5</td>\n",
       "      <td>0</td>\n",
       "      <td>0</td>\n",
       "      <td>0.0</td>\n",
       "      <td>0</td>\n",
       "      <td>0.00</td>\n",
       "      <td>0</td>\n",
       "      <td>0.0</td>\n",
       "      <td>0</td>\n",
       "      <td>0.00</td>\n",
       "      <td>0</td>\n",
       "      <td>0.0</td>\n",
       "      <td>0</td>\n",
       "      <td>0.0</td>\n",
       "    </tr>\n",
       "    <tr>\n",
       "      <th>2</th>\n",
       "      <td>2025-06-21</td>\n",
       "      <td>sku_A</td>\n",
       "      <td>8148.175</td>\n",
       "      <td>101</td>\n",
       "      <td>80.675</td>\n",
       "      <td>0</td>\n",
       "      <td>0</td>\n",
       "      <td>0</td>\n",
       "      <td>0.0</td>\n",
       "      <td>0</td>\n",
       "      <td>0.00</td>\n",
       "      <td>0</td>\n",
       "      <td>0.0</td>\n",
       "      <td>0</td>\n",
       "      <td>0.00</td>\n",
       "      <td>0</td>\n",
       "      <td>0.0</td>\n",
       "      <td>0</td>\n",
       "      <td>0.0</td>\n",
       "    </tr>\n",
       "    <tr>\n",
       "      <th>3</th>\n",
       "      <td>2025-06-28</td>\n",
       "      <td>sku_A</td>\n",
       "      <td>8069.698</td>\n",
       "      <td>101</td>\n",
       "      <td>79.898</td>\n",
       "      <td>0</td>\n",
       "      <td>0</td>\n",
       "      <td>0</td>\n",
       "      <td>0.0</td>\n",
       "      <td>0</td>\n",
       "      <td>0.00</td>\n",
       "      <td>0</td>\n",
       "      <td>0.0</td>\n",
       "      <td>0</td>\n",
       "      <td>0.00</td>\n",
       "      <td>0</td>\n",
       "      <td>0.0</td>\n",
       "      <td>0</td>\n",
       "      <td>0.0</td>\n",
       "    </tr>\n",
       "    <tr>\n",
       "      <th>4</th>\n",
       "      <td>2025-07-05</td>\n",
       "      <td>sku_A</td>\n",
       "      <td>12421.235</td>\n",
       "      <td>155</td>\n",
       "      <td>80.137</td>\n",
       "      <td>0</td>\n",
       "      <td>0</td>\n",
       "      <td>0</td>\n",
       "      <td>0.0</td>\n",
       "      <td>126</td>\n",
       "      <td>122.22</td>\n",
       "      <td>0</td>\n",
       "      <td>0.0</td>\n",
       "      <td>195</td>\n",
       "      <td>191.10</td>\n",
       "      <td>0</td>\n",
       "      <td>0.0</td>\n",
       "      <td>0</td>\n",
       "      <td>0.0</td>\n",
       "    </tr>\n",
       "  </tbody>\n",
       "</table>\n",
       "</div>"
      ],
      "text/plain": [
       "        date    sku      sales  units   price  oos  events  \\\n",
       "0 2025-06-07  sku_A   8546.250    106  80.625    6       0   \n",
       "1 2025-06-14  sku_A   7219.030     91  79.330    5       0   \n",
       "2 2025-06-21  sku_A   8148.175    101  80.675    0       0   \n",
       "3 2025-06-28  sku_A   8069.698    101  79.898    0       0   \n",
       "4 2025-07-05  sku_A  12421.235    155  80.137    0       0   \n",
       "\n",
       "   product_level_branded_clicks  product_level_branded_spends  \\\n",
       "0                             0                           0.0   \n",
       "1                             0                           0.0   \n",
       "2                             0                           0.0   \n",
       "3                             0                           0.0   \n",
       "4                             0                           0.0   \n",
       "\n",
       "   product_level_nonbranded_clicks  product_level_nonbranded_spends  \\\n",
       "0                                0                             0.00   \n",
       "1                                0                             0.00   \n",
       "2                                0                             0.00   \n",
       "3                                0                             0.00   \n",
       "4                              126                           122.22   \n",
       "\n",
       "   brand_level_branded_clicks  brand_level_branded_spends  \\\n",
       "0                           0                         0.0   \n",
       "1                           0                         0.0   \n",
       "2                           0                         0.0   \n",
       "3                           0                         0.0   \n",
       "4                           0                         0.0   \n",
       "\n",
       "   brand_level_nonbranded_clicks  brand_level_nonbranded_spends  insta_clicks  \\\n",
       "0                            117                         126.36             0   \n",
       "1                              0                           0.00             0   \n",
       "2                              0                           0.00             0   \n",
       "3                              0                           0.00             0   \n",
       "4                            195                         191.10             0   \n",
       "\n",
       "   insta_spends  fb_clicks  fb_spends  \n",
       "0           0.0          0        0.0  \n",
       "1           0.0          0        0.0  \n",
       "2           0.0          0        0.0  \n",
       "3           0.0          0        0.0  \n",
       "4           0.0          0        0.0  "
      ]
     },
     "execution_count": 93,
     "metadata": {},
     "output_type": "execute_result"
    }
   ],
   "source": [
    "data_list = [sku_a_data,sku_b_data,sku_c_data]\n",
    "\n",
    "data = pd.concat(data_list)\n",
    "data.head()"
   ]
  },
  {
   "cell_type": "code",
   "execution_count": 94,
   "metadata": {},
   "outputs": [],
   "source": [
    "data.to_excel(r'C:\\Users\\nigam\\OneDrive\\Documents\\university_classes\\AutoMMM\\data\\data.xlsx',index=False, sheet_name= 'data')"
   ]
  },
  {
   "cell_type": "markdown",
   "metadata": {},
   "source": [
    "## ✅ 2. **Embed Adstock and Saturation Effects**\n",
    "\n",
    "### Why: These effects are foundational to MMM and must be realistically emulated.\n",
    "\n",
    "* Use decaying functions for **carryover (adstock)**.\n",
    "* Apply transformations (e.g., logistic, power law) to model **saturation**.\n",
    "* Different channels should have **different decay and saturation parameters**, just like in real-world data."
   ]
  },
  {
   "cell_type": "markdown",
   "metadata": {},
   "source": []
  },
  {
   "cell_type": "markdown",
   "metadata": {},
   "source": [
    "## ✅ 3. **Vary Spend and Effects Over Time**\n",
    "\n",
    "### Why: Real campaigns vary over time. Flat or uniform data can lead to overfitting.\n",
    "\n",
    "* Simulate **budget reallocations**, **seasonal bursts**, or **campaign launches**.\n",
    "* Vary **channel spend levels** across weeks or months to create meaningful signal variance.\n",
    "* Inject **missing data points** if you want to test model robustness and preprocessing."
   ]
  },
  {
   "cell_type": "markdown",
   "metadata": {},
   "source": [
    "Things to keep in mind"
   ]
  },
  {
   "cell_type": "code",
   "execution_count": null,
   "metadata": {},
   "outputs": [],
   "source": []
  },
  {
   "cell_type": "markdown",
   "metadata": {},
   "source": [
    "## ✅ 4. **Noise and Outliers**\n",
    "\n",
    "### Why: Real-world sales data is noisy. Models must learn to deal with uncertainty.\n",
    "\n",
    "* Add **Gaussian noise** to the sales output.\n",
    "* Introduce occasional **outliers** (e.g., unexpected sales spikes/dips).\n",
    "* Control noise variance to keep the signal-to-noise ratio realistic."
   ]
  },
  {
   "cell_type": "code",
   "execution_count": null,
   "metadata": {},
   "outputs": [],
   "source": []
  },
  {
   "cell_type": "markdown",
   "metadata": {},
   "source": [
    "## ✅ 5. **Generate Sufficient Time Granularity**\n",
    "\n",
    "### Why: MMM typically operates on **weekly** or **monthly** data.\n",
    "\n",
    "* Use at least **104 weeks (2 years)** to allow for training + validation.\n",
    "* Include **enough season cycles** to identify periodic patterns.\n",
    "* For geo-level or brand-level models, generate **panel-style** data with multiple units (e.g., region × week)."
   ]
  },
  {
   "cell_type": "code",
   "execution_count": null,
   "metadata": {},
   "outputs": [],
   "source": []
  },
  {
   "cell_type": "markdown",
   "metadata": {},
   "source": [
    "## ✅ 6. **Ensure Model Identifiability**\n",
    "\n",
    "### Why: If all features are highly correlated, it becomes hard for the model to isolate effects.\n",
    "\n",
    "* Avoid perfect collinearity between channels (e.g., TV spend shouldn't always grow with digital).\n",
    "* Vary ad spends independently when possible."
   ]
  },
  {
   "cell_type": "code",
   "execution_count": null,
   "metadata": {},
   "outputs": [],
   "source": []
  },
  {
   "cell_type": "markdown",
   "metadata": {},
   "source": [
    "## ✅ 7. **Create Ground Truth Coefficients (for validation)**\n",
    "\n",
    "### Why: You want to compare model-estimated effects to known \"true\" effects.\n",
    "\n",
    "* Store the coefficients you use to generate sales (e.g., 0.3 for TV, 0.4 for Digital).\n",
    "* After modeling, compare model output to these coefficients for **model validation**."
   ]
  },
  {
   "cell_type": "code",
   "execution_count": null,
   "metadata": {},
   "outputs": [],
   "source": []
  },
  {
   "cell_type": "markdown",
   "metadata": {},
   "source": [
    "## ✅ 8. **Label Campaign Periods**\n",
    "\n",
    "### Why: Useful for testing campaign attribution models or causal inference.\n",
    "\n",
    "* Create `campaign_active` flags to simulate burst periods.\n",
    "* Useful for validating ROAS and marginal return calculations."
   ]
  },
  {
   "cell_type": "code",
   "execution_count": null,
   "metadata": {},
   "outputs": [],
   "source": []
  },
  {
   "cell_type": "markdown",
   "metadata": {},
   "source": [
    "## ✅ 9. **Track Cumulative Spend & Lag Variables**\n",
    "\n",
    "### Why: Advanced MMM includes lagged, cumulative, or rolling window variables.\n",
    "\n",
    "* Precompute rolling averages or lag variables to simulate richer input space.\n",
    "* Can also help you test whether your agent-based system is handling time-dependencies correctly."
   ]
  },
  {
   "cell_type": "code",
   "execution_count": null,
   "metadata": {},
   "outputs": [],
   "source": []
  },
  {
   "cell_type": "markdown",
   "metadata": {},
   "source": [
    "## ✅ 10. **Document the Data-Generating Process (DGP)**\n",
    "\n",
    "### Why: Transparency in how you generated synthetic data helps debug your modeling pipeline.\n",
    "\n",
    "* Keep a record of:\n",
    "\n",
    "  * Coefficients\n",
    "  * Adstock/saturation parameters\n",
    "  * Noise variance\n",
    "  * External variable effects\n",
    "  * Random seeds (for reproducibility)"
   ]
  },
  {
   "cell_type": "code",
   "execution_count": null,
   "metadata": {},
   "outputs": [],
   "source": []
  }
 ],
 "metadata": {
  "kernelspec": {
   "display_name": "agenticAI",
   "language": "python",
   "name": "python3"
  },
  "language_info": {
   "codemirror_mode": {
    "name": "ipython",
    "version": 3
   },
   "file_extension": ".py",
   "mimetype": "text/x-python",
   "name": "python",
   "nbconvert_exporter": "python",
   "pygments_lexer": "ipython3",
   "version": "3.13.2"
  }
 },
 "nbformat": 4,
 "nbformat_minor": 2
}
